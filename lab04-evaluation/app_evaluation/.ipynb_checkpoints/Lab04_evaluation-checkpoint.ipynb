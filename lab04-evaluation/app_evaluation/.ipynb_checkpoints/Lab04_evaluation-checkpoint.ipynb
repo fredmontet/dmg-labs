{
 "cells": [
  {
   "cell_type": "markdown",
   "metadata": {},
   "source": [
    "# Lab04 - Evaluation"
   ]
  },
  {
   "cell_type": "code",
   "execution_count": 212,
   "metadata": {
    "collapsed": false
   },
   "outputs": [],
   "source": [
    "# Import\n",
    "import pickle\n",
    "import pandas as pd\n",
    "import numpy as np\n",
    "from __future__ import division\n",
    "import matplotlib.pyplot as plt\n",
    "%matplotlib inline"
   ]
  },
  {
   "cell_type": "code",
   "execution_count": 200,
   "metadata": {
    "collapsed": true
   },
   "outputs": [],
   "source": [
    "# Export\n",
    "export_path = \"./export/\""
   ]
  },
  {
   "cell_type": "code",
   "execution_count": 217,
   "metadata": {
    "collapsed": true
   },
   "outputs": [],
   "source": [
    "# Utils\n",
    "def save_latex_table(table, name):\n",
    "    file_path = export_path + \"table_\"+ name +\".tex\"\n",
    "    with open(file_path, \"w\") as text_file:\n",
    "        text_file.write(table.to_latex(index=False))\n",
    "        print \"-> \" + file_path + \" saved!\"\n",
    "        print \"\\n\"\n",
    "        \n",
    "def save_pickle(obj, name):\n",
    "    file_path = export_path + name +\".pickle\"\n",
    "    with open(file_path, 'wb') as handle:\n",
    "        pickle.dump(obj, handle, protocol=pickle.HIGHEST_PROTOCOL)\n",
    "        print \"-> \" + file_path + \" saved!\"\n",
    "        print \"\\n\"\n",
    "    \n",
    "def load_pickle(name):\n",
    "    file_path = export_path + name +\".pickle\"\n",
    "    with open(file_path, 'rb') as handle:\n",
    "        obj = pickle.load(handle)\n",
    "        print \"-> \" + file_path + \" loaded!\"\n",
    "        print \"\\n\"\n",
    "        return obj\n"
   ]
  },
  {
   "cell_type": "markdown",
   "metadata": {},
   "source": [
    "## Collection loading"
   ]
  },
  {
   "cell_type": "code",
   "execution_count": 202,
   "metadata": {
    "collapsed": false
   },
   "outputs": [
    {
     "data": {
      "text/html": [
       "<div>\n",
       "<table border=\"1\" class=\"dataframe\">\n",
       "  <thead>\n",
       "    <tr style=\"text-align: right;\">\n",
       "      <th></th>\n",
       "      <th>doc_id</th>\n",
       "      <th>author</th>\n",
       "      <th>summary</th>\n",
       "      <th>etc</th>\n",
       "    </tr>\n",
       "  </thead>\n",
       "  <tbody>\n",
       "    <tr>\n",
       "      <th>0</th>\n",
       "      <td>1</td>\n",
       "      <td>Perlis, A. J.;Samelson,K.;</td>\n",
       "      <td>Preliminary Report-International Algebraic Lan...</td>\n",
       "      <td>NaN</td>\n",
       "    </tr>\n",
       "    <tr>\n",
       "      <th>1</th>\n",
       "      <td>2</td>\n",
       "      <td>Sugai, I.;</td>\n",
       "      <td>Extraction of Roots by Repeated Subtractions f...</td>\n",
       "      <td>NaN</td>\n",
       "    </tr>\n",
       "    <tr>\n",
       "      <th>2</th>\n",
       "      <td>3</td>\n",
       "      <td>Friedman, M. D.;</td>\n",
       "      <td>Techniques Department on Matrix Program Schemes</td>\n",
       "      <td>NaN</td>\n",
       "    </tr>\n",
       "    <tr>\n",
       "      <th>3</th>\n",
       "      <td>4</td>\n",
       "      <td>NaN</td>\n",
       "      <td>Glossary of Computer Engineering and Programmi...</td>\n",
       "      <td>NaN</td>\n",
       "    </tr>\n",
       "    <tr>\n",
       "      <th>4</th>\n",
       "      <td>5</td>\n",
       "      <td>Wadey, W. G.;</td>\n",
       "      <td>Two Square-Root Approximations</td>\n",
       "      <td>NaN</td>\n",
       "    </tr>\n",
       "  </tbody>\n",
       "</table>\n",
       "</div>"
      ],
      "text/plain": [
       "   doc_id                      author  \\\n",
       "0       1  Perlis, A. J.;Samelson,K.;   \n",
       "1       2                  Sugai, I.;   \n",
       "2       3            Friedman, M. D.;   \n",
       "3       4                         NaN   \n",
       "4       5               Wadey, W. G.;   \n",
       "\n",
       "                                             summary  etc  \n",
       "0  Preliminary Report-International Algebraic Lan...  NaN  \n",
       "1  Extraction of Roots by Repeated Subtractions f...  NaN  \n",
       "2   Techniques Department on Matrix Program Schemes   NaN  \n",
       "3  Glossary of Computer Engineering and Programmi...  NaN  \n",
       "4                    Two Square-Root Approximations   NaN  "
      ]
     },
     "execution_count": 202,
     "metadata": {},
     "output_type": "execute_result"
    }
   ],
   "source": [
    "coll = pd.read_table(\"../app/asset/cacm_v2.txt\", delimiter=\"\\t\", names=[\"doc_id\", \"author\", \"summary\", \"etc\"])\n",
    "coll.head()"
   ]
  },
  {
   "cell_type": "markdown",
   "metadata": {},
   "source": [
    "## Query results loading"
   ]
  },
  {
   "cell_type": "code",
   "execution_count": 203,
   "metadata": {
    "collapsed": false
   },
   "outputs": [
    {
     "data": {
      "text/html": [
       "<div>\n",
       "<table border=\"1\" class=\"dataframe\">\n",
       "  <thead>\n",
       "    <tr style=\"text-align: right;\">\n",
       "      <th></th>\n",
       "      <th>query_id</th>\n",
       "      <th>query_res</th>\n",
       "      <th>relevant</th>\n",
       "    </tr>\n",
       "  </thead>\n",
       "  <tbody>\n",
       "    <tr>\n",
       "      <th>0</th>\n",
       "      <td>1</td>\n",
       "      <td>1410</td>\n",
       "      <td>True</td>\n",
       "    </tr>\n",
       "    <tr>\n",
       "      <th>1</th>\n",
       "      <td>1</td>\n",
       "      <td>1572</td>\n",
       "      <td>True</td>\n",
       "    </tr>\n",
       "    <tr>\n",
       "      <th>2</th>\n",
       "      <td>1</td>\n",
       "      <td>1605</td>\n",
       "      <td>True</td>\n",
       "    </tr>\n",
       "    <tr>\n",
       "      <th>3</th>\n",
       "      <td>1</td>\n",
       "      <td>2020</td>\n",
       "      <td>True</td>\n",
       "    </tr>\n",
       "    <tr>\n",
       "      <th>4</th>\n",
       "      <td>1</td>\n",
       "      <td>2358</td>\n",
       "      <td>True</td>\n",
       "    </tr>\n",
       "  </tbody>\n",
       "</table>\n",
       "</div>"
      ],
      "text/plain": [
       "   query_id  query_res relevant\n",
       "0         1       1410     True\n",
       "1         1       1572     True\n",
       "2         1       1605     True\n",
       "3         1       2020     True\n",
       "4         1       2358     True"
      ]
     },
     "execution_count": 203,
     "metadata": {},
     "output_type": "execute_result"
    }
   ],
   "source": [
    "# True query results\n",
    "qrels = pd.read_table(\"../app/asset/qrels.txt\", delimiter=\" \", names=[\"query_id\", \"query_res\"])\n",
    "qrels[\"relevant\"] = True\n",
    "qrels.head()"
   ]
  },
  {
   "cell_type": "code",
   "execution_count": 204,
   "metadata": {
    "collapsed": false
   },
   "outputs": [],
   "source": [
    "# Query results with the different analyzers\n",
    "names = [\"query_id\", \"query_res\"]\n",
    "delimiter = \" \"\n",
    "\n",
    "results = {\n",
    "    \"whitespace\" : pd.read_table(\"../app/results/qrels_whitespace.txt\", delimiter=delimiter, names=names),\n",
    "    \"standard\" : pd.read_table(\"../app/results/qrels_standard.txt\", delimiter=delimiter, names=names),\n",
    "    \"english\" : pd.read_table(\"../app/results/qrels_english.txt\", delimiter=delimiter, names=names),\n",
    "    \"english_custom\" : pd.read_table(\"../app/results/qrels_english_custom.txt\", delimiter=delimiter, names=names)\n",
    "}"
   ]
  },
  {
   "cell_type": "markdown",
   "metadata": {},
   "source": [
    "### 1. Summary statistics"
   ]
  },
  {
   "cell_type": "markdown",
   "metadata": {},
   "source": [
    "#### Functions"
   ]
  },
  {
   "cell_type": "code",
   "execution_count": 205,
   "metadata": {
    "collapsed": true
   },
   "outputs": [],
   "source": [
    "def findRelevant(df):\n",
    "    df[\"relevant\"] = None\n",
    "    for idx, row in df.iterrows():\n",
    "        isRelevant = ((qrels['query_id'] == row.query_id) & \n",
    "                      (qrels['query_res'] == row.query_res)).any()\n",
    "        df.set_value(idx, 'relevant', isRelevant)\n",
    "    return df"
   ]
  },
  {
   "cell_type": "markdown",
   "metadata": {},
   "source": [
    "#### Execution"
   ]
  },
  {
   "cell_type": "code",
   "execution_count": 206,
   "metadata": {
    "collapsed": false
   },
   "outputs": [
    {
     "name": "stdout",
     "output_type": "stream",
     "text": [
      "['english', 3204, 82734, 796, 720]\n",
      "['english_custom', 3204, 142419, 796, 766]\n",
      "['whitespace', 3204, 121648, 796, 680]\n",
      "['standard', 3204, 47211, 796, 620]\n"
     ]
    }
   ],
   "source": [
    "summary = []\n",
    "tmp = {}\n",
    "\n",
    "for k, v in results.iteritems():\n",
    "    row = []\n",
    "    row.append(k)\n",
    "    row.append(coll.shape[0]) # a. Total number of documents\n",
    "    row.append(v.shape[0]) # b. total number retrieved documents for all queries\n",
    "    row.append(qrels.shape[0]) # c. total number of relevant documents for all queries\n",
    "    v = findRelevant(v)\n",
    "    nbRelevant = v.loc[v['relevant'] == True].shape[0]\n",
    "    row.append(nbRelevant) # d. total number of relevant documents retrieved for all queries\n",
    "    summary.append(row)\n",
    "    tmp[k]=v\n",
    "    print row"
   ]
  },
  {
   "cell_type": "code",
   "execution_count": 208,
   "metadata": {
    "collapsed": false
   },
   "outputs": [
    {
     "data": {
      "text/html": [
       "<div>\n",
       "<table border=\"1\" class=\"dataframe\">\n",
       "  <thead>\n",
       "    <tr style=\"text-align: right;\">\n",
       "      <th></th>\n",
       "      <th>Analyzer</th>\n",
       "      <th>a.</th>\n",
       "      <th>b.</th>\n",
       "      <th>c.</th>\n",
       "      <th>d.</th>\n",
       "    </tr>\n",
       "  </thead>\n",
       "  <tbody>\n",
       "    <tr>\n",
       "      <th>0</th>\n",
       "      <td>english</td>\n",
       "      <td>3204</td>\n",
       "      <td>82734</td>\n",
       "      <td>796</td>\n",
       "      <td>720</td>\n",
       "    </tr>\n",
       "    <tr>\n",
       "      <th>1</th>\n",
       "      <td>english_custom</td>\n",
       "      <td>3204</td>\n",
       "      <td>142419</td>\n",
       "      <td>796</td>\n",
       "      <td>766</td>\n",
       "    </tr>\n",
       "    <tr>\n",
       "      <th>2</th>\n",
       "      <td>whitespace</td>\n",
       "      <td>3204</td>\n",
       "      <td>121648</td>\n",
       "      <td>796</td>\n",
       "      <td>680</td>\n",
       "    </tr>\n",
       "    <tr>\n",
       "      <th>3</th>\n",
       "      <td>standard</td>\n",
       "      <td>3204</td>\n",
       "      <td>47211</td>\n",
       "      <td>796</td>\n",
       "      <td>620</td>\n",
       "    </tr>\n",
       "  </tbody>\n",
       "</table>\n",
       "</div>"
      ],
      "text/plain": [
       "         Analyzer    a.      b.   c.   d.\n",
       "0         english  3204   82734  796  720\n",
       "1  english_custom  3204  142419  796  766\n",
       "2      whitespace  3204  121648  796  680\n",
       "3        standard  3204   47211  796  620"
      ]
     },
     "execution_count": 208,
     "metadata": {},
     "output_type": "execute_result"
    }
   ],
   "source": [
    "summary = pd.DataFrame(summary, columns=['Analyzer', 'a.', 'b.', 'c.', 'd.'])\n",
    "summary"
   ]
  },
  {
   "cell_type": "code",
   "execution_count": 216,
   "metadata": {
    "collapsed": false
   },
   "outputs": [
    {
     "name": "stdout",
     "output_type": "stream",
     "text": [
      "-> ./export/table_summary.tex saved!\n",
      "\n",
      "\n"
     ]
    }
   ],
   "source": [
    "# Save the summary\n",
    "summary.to_csv(export_path+\"summary_statistics.csv\")\n",
    "save_latex_table(summary, \"summary\")"
   ]
  },
  {
   "cell_type": "code",
   "execution_count": 220,
   "metadata": {
    "collapsed": false
   },
   "outputs": [
    {
     "name": "stdout",
     "output_type": "stream",
     "text": [
      "-> ./export/results.pickle saved!\n",
      "\n",
      "\n"
     ]
    }
   ],
   "source": [
    "# Save the processed results Dict\n",
    "results = tmp\n",
    "save_pickle(results, \"results\")"
   ]
  },
  {
   "cell_type": "markdown",
   "metadata": {},
   "source": [
    "## 2. Average Precision at Standard Recall Levels\n",
    "\n",
    "http://nlp.stanford.edu/IR-book/html/htmledition/evaluation-of-ranked-retrieval-results-1.html\n",
    "\n",
    "- Works but has a problem and does not take the non-relevant into account\n",
    "- TODO Implement with all the analyzers"
   ]
  },
  {
   "cell_type": "markdown",
   "metadata": {},
   "source": [
    "---\n",
    "### Part 1 Compute the Precision and Recall values"
   ]
  },
  {
   "cell_type": "markdown",
   "metadata": {},
   "source": [
    "#### Functions"
   ]
  },
  {
   "cell_type": "code",
   "execution_count": 210,
   "metadata": {
    "collapsed": true
   },
   "outputs": [],
   "source": [
    "def computeAveragePrecision(df):\n",
    "\n",
    "    # Setup the empty columns\n",
    "    df['precision'] = None\n",
    "    df['recall'] = None\n",
    "        \n",
    "    # Loop everything\n",
    "    for idx, row in df.iterrows():\n",
    "        \n",
    "        df_at_idx = df.head(idx+1)\n",
    "\n",
    "        # Get true positive\n",
    "        tp = df_at_idx.loc[df_at_idx['relevant'] == True].shape[0]\n",
    "\n",
    "        # Get false positive\n",
    "        fp = df_at_idx.loc[df_at_idx['relevant'] == False].shape[0]\n",
    "\n",
    "        # Get false negative\n",
    "        fn = qrels.loc[qrels.query_id == query_id].shape[0]-tp\n",
    "\n",
    "        # Compute precision and recall\n",
    "        if (tp+fp) != 0:\n",
    "            precision = tp/(tp+fp)\n",
    "        else:\n",
    "            precision = \"Div0\"\n",
    "        \n",
    "        if tp+fn != 0:\n",
    "            recall = tp/(tp+fn)\n",
    "        else:\n",
    "            recall = \"Div0\"\n",
    "\n",
    "        df.set_value(idx, 'precision', precision)\n",
    "        df.set_value(idx, 'recall', recall)\n",
    "        \n",
    "    return df"
   ]
  },
  {
   "cell_type": "markdown",
   "metadata": {},
   "source": [
    "#### Execution"
   ]
  },
  {
   "cell_type": "code",
   "execution_count": 234,
   "metadata": {
    "collapsed": false
   },
   "outputs": [
    {
     "name": "stdout",
     "output_type": "stream",
     "text": [
      "-> ./export/results.pickle loaded!\n",
      "\n",
      "\n"
     ]
    }
   ],
   "source": [
    "# Load the results\n",
    "results = load_pickle(\"results\")"
   ]
  },
  {
   "cell_type": "code",
   "execution_count": 239,
   "metadata": {
    "collapsed": false
   },
   "outputs": [
    {
     "data": {
      "text/html": [
       "<div>\n",
       "<table border=\"1\" class=\"dataframe\">\n",
       "  <thead>\n",
       "    <tr style=\"text-align: right;\">\n",
       "      <th></th>\n",
       "      <th>query_id</th>\n",
       "      <th>query_res</th>\n",
       "      <th>relevant</th>\n",
       "    </tr>\n",
       "  </thead>\n",
       "  <tbody>\n",
       "    <tr>\n",
       "      <th>0</th>\n",
       "      <td>1</td>\n",
       "      <td>2319</td>\n",
       "      <td>False</td>\n",
       "    </tr>\n",
       "    <tr>\n",
       "      <th>1</th>\n",
       "      <td>1</td>\n",
       "      <td>1938</td>\n",
       "      <td>False</td>\n",
       "    </tr>\n",
       "    <tr>\n",
       "      <th>2</th>\n",
       "      <td>1</td>\n",
       "      <td>1410</td>\n",
       "      <td>True</td>\n",
       "    </tr>\n",
       "    <tr>\n",
       "      <th>3</th>\n",
       "      <td>1</td>\n",
       "      <td>1519</td>\n",
       "      <td>False</td>\n",
       "    </tr>\n",
       "    <tr>\n",
       "      <th>4</th>\n",
       "      <td>1</td>\n",
       "      <td>2629</td>\n",
       "      <td>False</td>\n",
       "    </tr>\n",
       "  </tbody>\n",
       "</table>\n",
       "</div>"
      ],
      "text/plain": [
       "   query_id  query_res relevant\n",
       "0         1       2319    False\n",
       "1         1       1938    False\n",
       "2         1       1410     True\n",
       "3         1       1519    False\n",
       "4         1       2629    False"
      ]
     },
     "execution_count": 239,
     "metadata": {},
     "output_type": "execute_result"
    }
   ],
   "source": [
    "results[\"standard\"].head()"
   ]
  },
  {
   "cell_type": "code",
   "execution_count": 236,
   "metadata": {
    "collapsed": false
   },
   "outputs": [
    {
     "name": "stdout",
     "output_type": "stream",
     "text": [
      "Try with only one Analyzer\n",
      "keys before : \n",
      "['english', 'english_custom', 'whitespace', 'standard']\n",
      "keys after : \n",
      "['standard']\n"
     ]
    }
   ],
   "source": [
    "# TODO Remove when code is working\n",
    "print \"Try with only one Analyzer\"\n",
    "print \"keys before : \" \n",
    "print results.keys()\n",
    "results = {\"standard\" : results[\"standard\"]}\n",
    "print \"keys after : \"\n",
    "print results.keys()"
   ]
  },
  {
   "cell_type": "code",
   "execution_count": 240,
   "metadata": {
    "collapsed": false
   },
   "outputs": [
    {
     "name": "stdout",
     "output_type": "stream",
     "text": [
      "standard\n"
     ]
    },
    {
     "name": "stderr",
     "output_type": "stream",
     "text": [
      "/Users/fredmontet/.pyenv/versions/anaconda2-2.5.0/lib/python2.7/site-packages/ipykernel/__main__.py:4: SettingWithCopyWarning: \n",
      "A value is trying to be set on a copy of a slice from a DataFrame.\n",
      "Try using .loc[row_indexer,col_indexer] = value instead\n",
      "\n",
      "See the caveats in the documentation: http://pandas.pydata.org/pandas-docs/stable/indexing.html#indexing-view-versus-copy\n",
      "/Users/fredmontet/.pyenv/versions/anaconda2-2.5.0/lib/python2.7/site-packages/ipykernel/__main__.py:5: SettingWithCopyWarning: \n",
      "A value is trying to be set on a copy of a slice from a DataFrame.\n",
      "Try using .loc[row_indexer,col_indexer] = value instead\n",
      "\n",
      "See the caveats in the documentation: http://pandas.pydata.org/pandas-docs/stable/indexing.html#indexing-view-versus-copy\n"
     ]
    }
   ],
   "source": [
    "# Compute precision and recall for each analyzer\n",
    "for k, result in results.iteritems():\n",
    "    \n",
    "    print k\n",
    "    average_precision_df = pd.DataFrame()  \n",
    "    \n",
    "    # Run for each query\n",
    "    for query_id in range(result.query_id.unique().shape[0]):\n",
    "        \n",
    "        # Setup dataframe\n",
    "        df = result.loc[result['query_id'] == query_id]\n",
    "        df.reset_index(inplace=True)\n",
    "        \n",
    "        # Compute\n",
    "        df = computeAveragePrecision(df)\n",
    "        \n",
    "        # Aggregate results\n",
    "        average_precision_df = average_precision_df.append(df)\n",
    "    \n",
    "    results[k] = average_precision_df"
   ]
  },
  {
   "cell_type": "code",
   "execution_count": 241,
   "metadata": {
    "collapsed": false
   },
   "outputs": [
    {
     "data": {
      "text/html": [
       "<div>\n",
       "<table border=\"1\" class=\"dataframe\">\n",
       "  <thead>\n",
       "    <tr style=\"text-align: right;\">\n",
       "      <th></th>\n",
       "      <th>index</th>\n",
       "      <th>query_id</th>\n",
       "      <th>query_res</th>\n",
       "      <th>relevant</th>\n",
       "      <th>precision</th>\n",
       "      <th>recall</th>\n",
       "    </tr>\n",
       "  </thead>\n",
       "  <tbody>\n",
       "    <tr>\n",
       "      <th>0</th>\n",
       "      <td>0</td>\n",
       "      <td>1</td>\n",
       "      <td>2319</td>\n",
       "      <td>False</td>\n",
       "      <td>0</td>\n",
       "      <td>0</td>\n",
       "    </tr>\n",
       "    <tr>\n",
       "      <th>1</th>\n",
       "      <td>1</td>\n",
       "      <td>1</td>\n",
       "      <td>1938</td>\n",
       "      <td>False</td>\n",
       "      <td>0</td>\n",
       "      <td>0</td>\n",
       "    </tr>\n",
       "    <tr>\n",
       "      <th>2</th>\n",
       "      <td>2</td>\n",
       "      <td>1</td>\n",
       "      <td>1410</td>\n",
       "      <td>True</td>\n",
       "      <td>0.333333</td>\n",
       "      <td>0.2</td>\n",
       "    </tr>\n",
       "    <tr>\n",
       "      <th>3</th>\n",
       "      <td>3</td>\n",
       "      <td>1</td>\n",
       "      <td>1519</td>\n",
       "      <td>False</td>\n",
       "      <td>0.25</td>\n",
       "      <td>0.2</td>\n",
       "    </tr>\n",
       "    <tr>\n",
       "      <th>4</th>\n",
       "      <td>4</td>\n",
       "      <td>1</td>\n",
       "      <td>2629</td>\n",
       "      <td>False</td>\n",
       "      <td>0.2</td>\n",
       "      <td>0.2</td>\n",
       "    </tr>\n",
       "  </tbody>\n",
       "</table>\n",
       "</div>"
      ],
      "text/plain": [
       "   index  query_id  query_res relevant precision recall\n",
       "0      0         1       2319    False         0      0\n",
       "1      1         1       1938    False         0      0\n",
       "2      2         1       1410     True  0.333333    0.2\n",
       "3      3         1       1519    False      0.25    0.2\n",
       "4      4         1       2629    False       0.2    0.2"
      ]
     },
     "execution_count": 241,
     "metadata": {},
     "output_type": "execute_result"
    }
   ],
   "source": [
    "results[\"standard\"].head()"
   ]
  },
  {
   "cell_type": "code",
   "execution_count": 247,
   "metadata": {
    "collapsed": false
   },
   "outputs": [
    {
     "name": "stdout",
     "output_type": "stream",
     "text": [
      "-> ./export/results_2_1.pickle saved!\n",
      "\n",
      "\n"
     ]
    }
   ],
   "source": [
    "save_pickle(results, \"results_2_1\")"
   ]
  },
  {
   "cell_type": "markdown",
   "metadata": {},
   "source": [
    "---\n",
    "### Part 2 Interpolate"
   ]
  },
  {
   "cell_type": "markdown",
   "metadata": {},
   "source": [
    "#### Functions"
   ]
  },
  {
   "cell_type": "code",
   "execution_count": 262,
   "metadata": {
    "collapsed": true
   },
   "outputs": [],
   "source": [
    "def interpolate(qdf):\n",
    "    \n",
    "    # Setup \n",
    "    arr = []\n",
    "    df = qdf[[\"precision\", \"recall\"]]\n",
    "    i_max = df.shape[0]-1\n",
    "\n",
    "    # Init values\n",
    "    r_i_tmp = 0\n",
    "    p_0 = 0\n",
    "    r_0 = 0\n",
    "    p_1 = 0\n",
    "    r_1 = 0\n",
    "\n",
    "    # Loop\n",
    "    i = 0\n",
    "    while i <= i_max:\n",
    "\n",
    "        # all the point except first and last\n",
    "        if i > 0 and i < i_max-1:\n",
    "\n",
    "            if (df.precision[i] > df.precision[i+1] and df.precision[i] > df.precision[i-1]):\n",
    "\n",
    "                p_0 = df.precision[i]\n",
    "                r_0 = df.recall[r_i_tmp]\n",
    "                p_1 = df.precision[i]\n",
    "                r_1 = df.recall[i]\n",
    "\n",
    "                r_i_tmp = i\n",
    "\n",
    "                arr.append([p_0, r_0])\n",
    "                arr.append([p_1, r_1])\n",
    "        i+=1\n",
    "    \n",
    "    return arr"
   ]
  },
  {
   "cell_type": "markdown",
   "metadata": {},
   "source": [
    "#### Execute"
   ]
  },
  {
   "cell_type": "code",
   "execution_count": 249,
   "metadata": {
    "collapsed": false
   },
   "outputs": [
    {
     "name": "stdout",
     "output_type": "stream",
     "text": [
      "-> ./export/results_2_1.pickle loaded!\n",
      "\n",
      "\n"
     ]
    }
   ],
   "source": [
    "# Load data\n",
    "results = load_pickle(\"results_2_1\")"
   ]
  },
  {
   "cell_type": "code",
   "execution_count": 263,
   "metadata": {
    "collapsed": false
   },
   "outputs": [
    {
     "data": {
      "text/plain": [
       "['standard']"
      ]
     },
     "execution_count": 263,
     "metadata": {},
     "output_type": "execute_result"
    }
   ],
   "source": [
    "results.keys()"
   ]
  },
  {
   "cell_type": "code",
   "execution_count": 264,
   "metadata": {
    "collapsed": false
   },
   "outputs": [
    {
     "data": {
      "text/html": [
       "<div>\n",
       "<table border=\"1\" class=\"dataframe\">\n",
       "  <thead>\n",
       "    <tr style=\"text-align: right;\">\n",
       "      <th></th>\n",
       "      <th>index</th>\n",
       "      <th>query_id</th>\n",
       "      <th>query_res</th>\n",
       "      <th>relevant</th>\n",
       "      <th>precision</th>\n",
       "      <th>recall</th>\n",
       "    </tr>\n",
       "  </thead>\n",
       "  <tbody>\n",
       "    <tr>\n",
       "      <th>0</th>\n",
       "      <td>0</td>\n",
       "      <td>1</td>\n",
       "      <td>2319</td>\n",
       "      <td>False</td>\n",
       "      <td>0</td>\n",
       "      <td>0</td>\n",
       "    </tr>\n",
       "    <tr>\n",
       "      <th>1</th>\n",
       "      <td>1</td>\n",
       "      <td>1</td>\n",
       "      <td>1938</td>\n",
       "      <td>False</td>\n",
       "      <td>0</td>\n",
       "      <td>0</td>\n",
       "    </tr>\n",
       "    <tr>\n",
       "      <th>2</th>\n",
       "      <td>2</td>\n",
       "      <td>1</td>\n",
       "      <td>1410</td>\n",
       "      <td>True</td>\n",
       "      <td>0.333333</td>\n",
       "      <td>0.2</td>\n",
       "    </tr>\n",
       "    <tr>\n",
       "      <th>3</th>\n",
       "      <td>3</td>\n",
       "      <td>1</td>\n",
       "      <td>1519</td>\n",
       "      <td>False</td>\n",
       "      <td>0.25</td>\n",
       "      <td>0.2</td>\n",
       "    </tr>\n",
       "    <tr>\n",
       "      <th>4</th>\n",
       "      <td>4</td>\n",
       "      <td>1</td>\n",
       "      <td>2629</td>\n",
       "      <td>False</td>\n",
       "      <td>0.2</td>\n",
       "      <td>0.2</td>\n",
       "    </tr>\n",
       "  </tbody>\n",
       "</table>\n",
       "</div>"
      ],
      "text/plain": [
       "   index  query_id  query_res relevant precision recall\n",
       "0      0         1       2319    False         0      0\n",
       "1      1         1       1938    False         0      0\n",
       "2      2         1       1410     True  0.333333    0.2\n",
       "3      3         1       1519    False      0.25    0.2\n",
       "4      4         1       2629    False       0.2    0.2"
      ]
     },
     "execution_count": 264,
     "metadata": {},
     "output_type": "execute_result"
    }
   ],
   "source": [
    "results[\"standard\"].head()"
   ]
  },
  {
   "cell_type": "code",
   "execution_count": 270,
   "metadata": {
    "collapsed": true
   },
   "outputs": [],
   "source": [
    "interpolated = {}"
   ]
  },
  {
   "cell_type": "code",
   "execution_count": 283,
   "metadata": {
    "collapsed": false
   },
   "outputs": [
    {
     "name": "stdout",
     "output_type": "stream",
     "text": [
      "standard\n"
     ]
    }
   ],
   "source": [
    "# Interpolate for each analyzer\n",
    "for k, result in results.iteritems():\n",
    "    \n",
    "    print k\n",
    "    ai = []  \n",
    "    \n",
    "    # Run for each query\n",
    "    for query_id in range(result.query_id.unique().shape[0]):\n",
    "        \n",
    "        # Setup dataframe\n",
    "        df = result.loc[result['query_id'] == query_id]\n",
    "        df.reset_index(inplace=True)\n",
    "        \n",
    "        # Compute\n",
    "        qi = interpolate(df)\n",
    "        \n",
    "        # Aggregate results\n",
    "        ai.append(qi)\n",
    "    \n",
    "    interpolated[k] = ai"
   ]
  },
  {
   "cell_type": "code",
   "execution_count": 306,
   "metadata": {
    "collapsed": false
   },
   "outputs": [
    {
     "data": {
      "text/plain": [
       "[[0.25, 0.0],\n",
       " [0.25, 0.125],\n",
       " [0.2222222222222222, 0.125],\n",
       " [0.2222222222222222, 0.25],\n",
       " [0.08333333333333333, 0.25],\n",
       " [0.08333333333333333, 0.375],\n",
       " [0.06060606060606061, 0.375],\n",
       " [0.06060606060606061, 0.5],\n",
       " [0.06172839506172839, 0.5],\n",
       " [0.06172839506172839, 0.625],\n",
       " [0.03870967741935484, 0.625],\n",
       " [0.03870967741935484, 0.75],\n",
       " [0.036458333333333336, 0.75],\n",
       " [0.036458333333333336, 0.875],\n",
       " [0.02247191011235955, 0.875],\n",
       " [0.02247191011235955, 1.0]]"
      ]
     },
     "execution_count": 306,
     "metadata": {},
     "output_type": "execute_result"
    }
   ],
   "source": [
    "# Test\n",
    "# interpolated[analyzer][query_id][ieme peak][0 = Precision,1 = Recall]\n",
    "\n",
    "analyzer = \"standard\"\n",
    "query_id = 5\n",
    "\n",
    "tmp = interpolated[analyzer][query_id]\n",
    "tmp"
   ]
  },
  {
   "cell_type": "code",
   "execution_count": 340,
   "metadata": {
    "collapsed": true
   },
   "outputs": [],
   "source": [
    "def plotQuery(results, interpolated, analyzer, query_id):\n",
    "    \n",
    "    tmp = np.array(interpolated[analyzer][query_id])\n",
    "    res = results[analyzer]\n",
    "    qdf = res.loc[res['query_id'] == query_id]\n",
    "    qdf = qdf[[\"precision\", \"recall\"]]\n",
    "\n",
    "    plt.plot(tmp.T[1], tmp.T[0], color=\"red\")\n",
    "    plt.scatter(list(qdf.recall), list(qdf.precision), color=\"white\", marker='+')\n",
    "    plt.plot(qdf.recall, qdf.precision, color=\"black\")\n",
    "\n",
    "    plt.xlabel('Recall')\n",
    "    plt.ylabel('Precision')\n",
    "    plt.title(\"Recall Precision Graph\")\n",
    "    plt.show();"
   ]
  },
  {
   "cell_type": "code",
   "execution_count": 344,
   "metadata": {
    "collapsed": false
   },
   "outputs": [
    {
     "data": {
      "image/png": "[encoded data removed]",
      "text/plain": [
       "<matplotlib.figure.Figure at 0x11aa640d0>"
      ]
     },
     "metadata": {},
     "output_type": "display_data"
    }
   ],
   "source": [
    "# Just for test, this is the interpolated plot before standardization\n",
    "plotQuery(results, interpolated, \"standard\", 5)"
   ]
  },
  {
   "cell_type": "markdown",
   "metadata": {},
   "source": [
    "---\n",
    "### Part 3 Calculate the value at standard levels"
   ]
  },
  {
   "cell_type": "code",
   "execution_count": null,
   "metadata": {
    "collapsed": true
   },
   "outputs": [],
   "source": []
  },
  {
   "cell_type": "markdown",
   "metadata": {},
   "source": [
    "## 3. Recall-Precision Graph"
   ]
  },
  {
   "cell_type": "code",
   "execution_count": null,
   "metadata": {
    "collapsed": true
   },
   "outputs": [],
   "source": []
  },
  {
   "cell_type": "markdown",
   "metadata": {},
   "source": [
    "## 4. Average precision over all relevant documents (MAP)"
   ]
  },
  {
   "cell_type": "code",
   "execution_count": null,
   "metadata": {
    "collapsed": true
   },
   "outputs": [],
   "source": [
    "# Create array to store interpolated values\n",
    "# at standard recall levels\n",
    "\n",
    "recall = range(11)\n",
    "recall = np.array(recall)/10.0\n",
    "empty = np.zeros(recall.size)\n",
    "tmp = np.array([recall, empty])\n",
    "interpolated = pd.DataFrame(tmp.T, columns=[\"recall\",\"precision\"])\n",
    "interpolated"
   ]
  }
 ],
 "metadata": {
  "kernelspec": {
   "display_name": "Python 2",
   "language": "python",
   "name": "python2"
  },
  "language_info": {
   "codemirror_mode": {
    "name": "ipython",
    "version": 2
   },
   "file_extension": ".py",
   "mimetype": "text/x-python",
   "name": "python",
   "nbconvert_exporter": "python",
   "pygments_lexer": "ipython2",
   "version": "2.7.11"
  }
 },
 "nbformat": 4,
 "nbformat_minor": 0
}
