{
 "cells": [
  {
   "cell_type": "markdown",
   "metadata": {},
   "source": [
    "# Lab04 - Evaluation"
   ]
  },
  {
   "cell_type": "code",
   "execution_count": 182,
   "metadata": {
    "collapsed": true
   },
   "outputs": [],
   "source": [
    "# Import\n",
    "import pandas as pd"
   ]
  },
  {
   "cell_type": "code",
   "execution_count": 238,
   "metadata": {
    "collapsed": true
   },
   "outputs": [],
   "source": [
    "# Export\n",
    "export_path = \"./export/\""
   ]
  },
  {
   "cell_type": "code",
   "execution_count": 241,
   "metadata": {
    "collapsed": true
   },
   "outputs": [],
   "source": [
    "# Utils\n",
    "def save_latex_table(table, name):\n",
    "    file_path = export_path + \"table_\"+ name +\".tex\"\n",
    "    with open(file_path, \"w\") as text_file:\n",
    "        text_file.write(table.to_latex(index=False))\n",
    "        print \"-> \" + file_path + \" saved!\"\n",
    "        print \"\\n\""
   ]
  },
  {
   "cell_type": "markdown",
   "metadata": {},
   "source": [
    "## Collection loading"
   ]
  },
  {
   "cell_type": "code",
   "execution_count": 183,
   "metadata": {
    "collapsed": false
   },
   "outputs": [
    {
     "data": {
      "text/html": [
       "<div>\n",
       "<table border=\"1\" class=\"dataframe\">\n",
       "  <thead>\n",
       "    <tr style=\"text-align: right;\">\n",
       "      <th></th>\n",
       "      <th>doc_id</th>\n",
       "      <th>author</th>\n",
       "      <th>summary</th>\n",
       "      <th>etc</th>\n",
       "    </tr>\n",
       "  </thead>\n",
       "  <tbody>\n",
       "    <tr>\n",
       "      <th>0</th>\n",
       "      <td>1</td>\n",
       "      <td>Perlis, A. J.;Samelson,K.;</td>\n",
       "      <td>Preliminary Report-International Algebraic Lan...</td>\n",
       "      <td>NaN</td>\n",
       "    </tr>\n",
       "    <tr>\n",
       "      <th>1</th>\n",
       "      <td>2</td>\n",
       "      <td>Sugai, I.;</td>\n",
       "      <td>Extraction of Roots by Repeated Subtractions f...</td>\n",
       "      <td>NaN</td>\n",
       "    </tr>\n",
       "    <tr>\n",
       "      <th>2</th>\n",
       "      <td>3</td>\n",
       "      <td>Friedman, M. D.;</td>\n",
       "      <td>Techniques Department on Matrix Program Schemes</td>\n",
       "      <td>NaN</td>\n",
       "    </tr>\n",
       "    <tr>\n",
       "      <th>3</th>\n",
       "      <td>4</td>\n",
       "      <td>NaN</td>\n",
       "      <td>Glossary of Computer Engineering and Programmi...</td>\n",
       "      <td>NaN</td>\n",
       "    </tr>\n",
       "    <tr>\n",
       "      <th>4</th>\n",
       "      <td>5</td>\n",
       "      <td>Wadey, W. G.;</td>\n",
       "      <td>Two Square-Root Approximations</td>\n",
       "      <td>NaN</td>\n",
       "    </tr>\n",
       "  </tbody>\n",
       "</table>\n",
       "</div>"
      ],
      "text/plain": [
       "   doc_id                      author  \\\n",
       "0       1  Perlis, A. J.;Samelson,K.;   \n",
       "1       2                  Sugai, I.;   \n",
       "2       3            Friedman, M. D.;   \n",
       "3       4                         NaN   \n",
       "4       5               Wadey, W. G.;   \n",
       "\n",
       "                                             summary  etc  \n",
       "0  Preliminary Report-International Algebraic Lan...  NaN  \n",
       "1  Extraction of Roots by Repeated Subtractions f...  NaN  \n",
       "2   Techniques Department on Matrix Program Schemes   NaN  \n",
       "3  Glossary of Computer Engineering and Programmi...  NaN  \n",
       "4                    Two Square-Root Approximations   NaN  "
      ]
     },
     "execution_count": 183,
     "metadata": {},
     "output_type": "execute_result"
    }
   ],
   "source": [
    "coll = pd.read_table(\"../app/asset/cacm_v2.txt\", delimiter=\"\\t\", names=[\"doc_id\", \"author\", \"summary\", \"etc\"])\n",
    "coll.head()"
   ]
  },
  {
   "cell_type": "markdown",
   "metadata": {},
   "source": [
    "## Query results loading"
   ]
  },
  {
   "cell_type": "code",
   "execution_count": 184,
   "metadata": {
    "collapsed": false
   },
   "outputs": [
    {
     "data": {
      "text/html": [
       "<div>\n",
       "<table border=\"1\" class=\"dataframe\">\n",
       "  <thead>\n",
       "    <tr style=\"text-align: right;\">\n",
       "      <th></th>\n",
       "      <th>query_id</th>\n",
       "      <th>query_res</th>\n",
       "      <th>relevant</th>\n",
       "    </tr>\n",
       "  </thead>\n",
       "  <tbody>\n",
       "    <tr>\n",
       "      <th>0</th>\n",
       "      <td>1</td>\n",
       "      <td>1410</td>\n",
       "      <td>True</td>\n",
       "    </tr>\n",
       "    <tr>\n",
       "      <th>1</th>\n",
       "      <td>1</td>\n",
       "      <td>1572</td>\n",
       "      <td>True</td>\n",
       "    </tr>\n",
       "    <tr>\n",
       "      <th>2</th>\n",
       "      <td>1</td>\n",
       "      <td>1605</td>\n",
       "      <td>True</td>\n",
       "    </tr>\n",
       "    <tr>\n",
       "      <th>3</th>\n",
       "      <td>1</td>\n",
       "      <td>2020</td>\n",
       "      <td>True</td>\n",
       "    </tr>\n",
       "    <tr>\n",
       "      <th>4</th>\n",
       "      <td>1</td>\n",
       "      <td>2358</td>\n",
       "      <td>True</td>\n",
       "    </tr>\n",
       "  </tbody>\n",
       "</table>\n",
       "</div>"
      ],
      "text/plain": [
       "   query_id  query_res relevant\n",
       "0         1       1410     True\n",
       "1         1       1572     True\n",
       "2         1       1605     True\n",
       "3         1       2020     True\n",
       "4         1       2358     True"
      ]
     },
     "execution_count": 184,
     "metadata": {},
     "output_type": "execute_result"
    }
   ],
   "source": [
    "# True query results\n",
    "qrels = pd.read_table(\"../app/asset/qrels.txt\", delimiter=\" \", names=[\"query_id\", \"query_res\"])\n",
    "qrels[\"relevant\"] = True\n",
    "qrels.head()"
   ]
  },
  {
   "cell_type": "code",
   "execution_count": 216,
   "metadata": {
    "collapsed": false
   },
   "outputs": [],
   "source": [
    "# Query results with the different analyzers\n",
    "names = [\"query_id\", \"query_res\"]\n",
    "delimiter = \" \"\n",
    "\n",
    "results = {\n",
    "    \"whitespace\" : pd.read_table(\"../app/results/qrels_whitespace.txt\", delimiter=delimiter, names=names),\n",
    "    \"standard\" : pd.read_table(\"../app/results/qrels_standard.txt\", delimiter=delimiter, names=names),\n",
    "    \"english\" : pd.read_table(\"../app/results/qrels_english.txt\", delimiter=delimiter, names=names),\n",
    "    \"english_custom\" : pd.read_table(\"../app/results/qrels_english_custom.txt\", delimiter=delimiter, names=names)\n",
    "}"
   ]
  },
  {
   "cell_type": "markdown",
   "metadata": {},
   "source": [
    "### 1. Summary statistics"
   ]
  },
  {
   "cell_type": "code",
   "execution_count": null,
   "metadata": {
    "collapsed": true
   },
   "outputs": [],
   "source": [
    "def findRelevant(df):\n",
    "    df[\"relevant\"] = None\n",
    "    for idx, row in df.iterrows():\n",
    "        isRelevant = ((qrels['query_id'] == row.query_id) & \n",
    "                      (qrels['query_res'] == row.query_res)).any()\n",
    "        df.set_value(idx, 'relevant', isRelevant)\n",
    "    return df"
   ]
  },
  {
   "cell_type": "code",
   "execution_count": 235,
   "metadata": {
    "collapsed": false
   },
   "outputs": [
    {
     "name": "stdout",
     "output_type": "stream",
     "text": [
      "['english', 3204, 82734, 796, 720]\n",
      "['english_custom', 3204, 142419, 796, 766]\n",
      "['whitespace', 3204, 121648, 796, 680]\n",
      "['standard', 3204, 47211, 796, 620]\n"
     ]
    }
   ],
   "source": [
    "summary = []\n",
    "\n",
    "for k, v in results.iteritems():\n",
    "    row = []\n",
    "    row.append(k)\n",
    "    row.append(coll.shape[0]) # a. Total number of documents\n",
    "    row.append(v.shape[0]) # b. total number retrieved documents for all queries\n",
    "    row.append(qrels.shape[0]) # c. total number of relevant documents for all queries\n",
    "    v = findRelevant(v)\n",
    "    nbRelevant = v.loc[v['relevant'] == True].shape[0]\n",
    "    row.append(nbRelevant) # d. total number of relevant documents retrieved for all queries\n",
    "    summary.append(row)\n",
    "    print row"
   ]
  },
  {
   "cell_type": "code",
   "execution_count": 236,
   "metadata": {
    "collapsed": false
   },
   "outputs": [
    {
     "data": {
      "text/html": [
       "<div>\n",
       "<table border=\"1\" class=\"dataframe\">\n",
       "  <thead>\n",
       "    <tr style=\"text-align: right;\">\n",
       "      <th></th>\n",
       "      <th>Analyzer</th>\n",
       "      <th>a.</th>\n",
       "      <th>b.</th>\n",
       "      <th>c.</th>\n",
       "      <th>d.</th>\n",
       "    </tr>\n",
       "  </thead>\n",
       "  <tbody>\n",
       "    <tr>\n",
       "      <th>0</th>\n",
       "      <td>english</td>\n",
       "      <td>3204</td>\n",
       "      <td>82734</td>\n",
       "      <td>796</td>\n",
       "      <td>720</td>\n",
       "    </tr>\n",
       "    <tr>\n",
       "      <th>1</th>\n",
       "      <td>english_custom</td>\n",
       "      <td>3204</td>\n",
       "      <td>142419</td>\n",
       "      <td>796</td>\n",
       "      <td>766</td>\n",
       "    </tr>\n",
       "    <tr>\n",
       "      <th>2</th>\n",
       "      <td>whitespace</td>\n",
       "      <td>3204</td>\n",
       "      <td>121648</td>\n",
       "      <td>796</td>\n",
       "      <td>680</td>\n",
       "    </tr>\n",
       "    <tr>\n",
       "      <th>3</th>\n",
       "      <td>standard</td>\n",
       "      <td>3204</td>\n",
       "      <td>47211</td>\n",
       "      <td>796</td>\n",
       "      <td>620</td>\n",
       "    </tr>\n",
       "  </tbody>\n",
       "</table>\n",
       "</div>"
      ],
      "text/plain": [
       "         Analyzer    a.      b.   c.   d.\n",
       "0         english  3204   82734  796  720\n",
       "1  english_custom  3204  142419  796  766\n",
       "2      whitespace  3204  121648  796  680\n",
       "3        standard  3204   47211  796  620"
      ]
     },
     "execution_count": 236,
     "metadata": {},
     "output_type": "execute_result"
    }
   ],
   "source": [
    "summary = pd.DataFrame(summary, columns=['Analyzer', 'a.', 'b.', 'c.', 'd.'])\n",
    "summary"
   ]
  },
  {
   "cell_type": "code",
   "execution_count": 243,
   "metadata": {
    "collapsed": false
   },
   "outputs": [
    {
     "name": "stdout",
     "output_type": "stream",
     "text": [
      "-> ./export/table_summary.tex saved!\n",
      "\n",
      "\n"
     ]
    }
   ],
   "source": [
    "summary.to_csv(export_path+\"summary_statistics.csv\")\n",
    "save_latex_table(summary, \"summary\")"
   ]
  }
 ],
 "metadata": {
  "kernelspec": {
   "display_name": "Python 2",
   "language": "python",
   "name": "python2"
  },
  "language_info": {
   "codemirror_mode": {
    "name": "ipython",
    "version": 2
   },
   "file_extension": ".py",
   "mimetype": "text/x-python",
   "name": "python",
   "nbconvert_exporter": "python",
   "pygments_lexer": "ipython2",
   "version": "2.7.11"
  }
 },
 "nbformat": 4,
 "nbformat_minor": 0
}
